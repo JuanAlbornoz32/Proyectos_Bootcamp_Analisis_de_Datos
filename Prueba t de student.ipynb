{
 "cells": [
  {
   "cell_type": "markdown",
   "id": "57355dfb-e1a7-4996-9294-1ea019a5d503",
   "metadata": {},
   "source": [
    "### Estudio de Caso:\n",
    "La empresa TecnoSoluciones ha implementado un nuevo software de gestión de proyectos con el objetivo de mejorar la eficiencia de sus empleados. Antes de la implementación, el tiempo promedio de finalización de tareas en la empresa era de 10 días. Después de la adopción del nuevo software, la empresa toma una muestra aleatoria de 50 proyectos y encuentra que el tiempo promedio de finalización es ahora de 9.2 días con una desviación estándar de 2.5 días. La empresa desea determinar si esta reducción en el tiempo de finalización es estadísticamente significativa."
   ]
  },
  {
   "cell_type": "markdown",
   "id": "88e1316f-3a2d-4a10-bd3e-af8fe20c641c",
   "metadata": {},
   "source": [
    "### 1. ¿Cuál es la hipótesis nula (H0) y la hipótesis alternativa (H1) en este caso?\n",
    "\n",
    "* Hipótesis nula (H0): El nuevo software no ha reducido los tiempos promedios en la finalización de las tareas.\n",
    "* Hipótesis alternativa (H1): El nuevo software ha reducido los tiempos promedios en la finalización de tareas."
   ]
  },
  {
   "cell_type": "markdown",
   "id": "bd10b19c-b135-4ff6-8ee7-1d37a1270d7f",
   "metadata": {},
   "source": [
    "### 2. ¿Qué tipo de prueba de hipótesis se debe utilizar y por qué?\n",
    "\n",
    "Se utiliza la prueba t de student, ya que se quiere comparar si existe una diferencia estadística significativas entre las medias de dos grupos, en este caso los tiempos promedio en la finalización de tareas, entre el grupo de tareas realizadas por el viejo software, y el grupo de tareas realizadas por el nuevo software. \n",
    "\n",
    "Además, como no se conoce la desviación estandar de la población la prueba t de student es la indicada ya que la falta de este dato no permitiria realizar una prueba con distribución normal. "
   ]
  },
  {
   "cell_type": "code",
   "execution_count": 1,
   "id": "0d6d72db-a024-4f67-ad1e-be3467c1e847",
   "metadata": {},
   "outputs": [
    {
     "name": "stdout",
     "output_type": "stream",
     "text": [
      "t estadistico: 2.26\n",
      "p-valor: 0.0140\n",
      "Se rechaza la H0: Si nuevo software si ha reducido los tiempos promedios en la finalización de las tareas\n"
     ]
    }
   ],
   "source": [
    "import numpy as np\n",
    "from scipy.stats import t\n",
    "import matplotlib.pyplot as plt\n",
    "\n",
    "# Prueba t de student\n",
    "\n",
    "n = 50\n",
    "media_muestra = 9.2\n",
    "desv_muestra = 2.5\n",
    "media = 10\n",
    "\n",
    "# Error muestral\n",
    "error_e = desv_muestra/np.sqrt(n)\n",
    "\n",
    "# t estadístico\n",
    "t_estadistico = (media-media_muestra)/error_e\n",
    "print(f\"t estadistico: {t_estadistico:.2f}\")\n",
    "\n",
    "# p valor\n",
    "p_valor = 1 - t.cdf(t_estadistico, df=n)\n",
    "print(f\"p-valor: {p_valor:.4f}\")\n",
    "\n",
    "# valor alpha\n",
    "alpha = 0.05\n",
    "\n",
    "if p_valor < alpha:\n",
    "    print(\"Se rechaza la H0: Si nuevo software si ha reducido los tiempos promedios en la finalización de las tareas\")\n",
    "else:\n",
    "    print(\"No se rechaza la H0\")"
   ]
  },
  {
   "cell_type": "markdown",
   "id": "d67a05f4-4304-431a-85e5-41131f9d7db8",
   "metadata": {},
   "source": [
    "### ¿Cómo se interpreta el valor p obtenido en la prueba de hipótesis y qué decisión se tomaría si p < 0.05?"
   ]
  },
  {
   "cell_type": "code",
   "execution_count": null,
   "id": "e8b4ed40-0d93-47c2-980d-a256a12e8110",
   "metadata": {},
   "outputs": [],
   "source": []
  }
 ],
 "metadata": {
  "kernelspec": {
   "display_name": "Python [conda env:base] *",
   "language": "python",
   "name": "conda-base-py"
  },
  "language_info": {
   "codemirror_mode": {
    "name": "ipython",
    "version": 3
   },
   "file_extension": ".py",
   "mimetype": "text/x-python",
   "name": "python",
   "nbconvert_exporter": "python",
   "pygments_lexer": "ipython3",
   "version": "3.12.7"
  }
 },
 "nbformat": 4,
 "nbformat_minor": 5
}
